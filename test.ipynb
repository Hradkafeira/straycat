{
 "cells": [
  {
   "cell_type": "code",
   "execution_count": 1,
   "metadata": {},
   "outputs": [],
   "source": [
    "from straycat import text_preprocessing as tp\n",
    "st=tp.TextPreprocessing()"
   ]
  },
  {
   "cell_type": "code",
   "execution_count": 2,
   "metadata": {},
   "outputs": [
    {
     "data": {
      "text/plain": [
       "['apel', 'yang', 'lihat', 'lezat']"
      ]
     },
     "execution_count": 2,
     "metadata": {},
     "output_type": "execute_result"
    }
   ],
   "source": [
    "st.stemming(\"Apel yang terlihat lezat\")"
   ]
  },
  {
   "cell_type": "code",
   "execution_count": 26,
   "metadata": {},
   "outputs": [
    {
     "data": {
      "text/plain": [
       "[['ak', 'suka', 'mkn', 'apel', 'rasa', 'enak']]"
      ]
     },
     "execution_count": 26,
     "metadata": {},
     "output_type": "execute_result"
    }
   ],
   "source": [
    "st.auto_text_prep([\"ak suka mkn apel karena rasanya enak!!! 😁 😆 😅\"])"
   ]
  },
  {
   "cell_type": "code",
   "execution_count": 28,
   "metadata": {},
   "outputs": [
    {
     "data": {
      "text/plain": [
       "['ak suka mkn apel rasa enak']"
      ]
     },
     "execution_count": 28,
     "metadata": {},
     "output_type": "execute_result"
    }
   ],
   "source": [
    "st.auto_text_prep([\"ak suka mkn apel karena rasanya enak!!!\"],return_types=\"list_of_sentences\")"
   ]
  },
  {
   "cell_type": "code",
   "execution_count": 29,
   "metadata": {},
   "outputs": [
    {
     "data": {
      "text/plain": [
       "['saya suka makin apel karena rasanya enak ! ! ! 😁 😆 😅']"
      ]
     },
     "execution_count": 29,
     "metadata": {},
     "output_type": "execute_result"
    }
   ],
   "source": [
    "st.auto_text_prep([\"ak suka mkn apel karena rasanya enak!!! 😁 😆 😅\"],set_process=\"customize\",process=[\"normalize_slang\"] , return_types=\"list_of_sentences\")"
   ]
  },
  {
   "cell_type": "code",
   "execution_count": 12,
   "metadata": {},
   "outputs": [
    {
     "data": {
      "text/plain": [
       "[['saya',\n",
       "  'suka',\n",
       "  'makin',\n",
       "  'apel',\n",
       "  'karena',\n",
       "  'rasanya',\n",
       "  'enak',\n",
       "  '!',\n",
       "  '!',\n",
       "  '!',\n",
       "  '😁',\n",
       "  '😆',\n",
       "  '😅']]"
      ]
     },
     "execution_count": 12,
     "metadata": {},
     "output_type": "execute_result"
    }
   ],
   "source": [
    "st.auto_text_prep([\"ak suka mkn apel karena rasanya enak!!! 😁 😆 😅\"],set_process=\"customize\",process=[\"normalize_slang\"] )"
   ]
  },
  {
   "cell_type": "code",
   "execution_count": 34,
   "metadata": {},
   "outputs": [
    {
     "data": {
      "text/plain": [
       "['saya suka makan apel karena rasanya enak ! ! ! 😁 😆 😅']"
      ]
     },
     "execution_count": 34,
     "metadata": {},
     "output_type": "execute_result"
    }
   ],
   "source": [
    "st.auto_text_prep([\"ak suka mkan apel karena rasanya enak!!! 😁 😆 😅\"],set_process=\"customize\",process=[\"normalize_slang\"], return_types=\"list_of_sentences\")"
   ]
  },
  {
   "cell_type": "code",
   "execution_count": 35,
   "metadata": {},
   "outputs": [
    {
     "data": {
      "text/plain": [
       "[['saya', 'suka', 'makan', 'apel', 'rasa', 'enak']]"
      ]
     },
     "execution_count": 35,
     "metadata": {},
     "output_type": "execute_result"
    }
   ],
   "source": [
    "st.auto_text_prep([\"ak suka mkan apel karena rasanya enak!!!\"],set_process=\"add_process\",process=[\"normalize_slang\"] )"
   ]
  },
  {
   "cell_type": "code",
   "execution_count": 36,
   "metadata": {},
   "outputs": [
    {
     "data": {
      "text/plain": [
       "['saya suka makan apel rasa enak']"
      ]
     },
     "execution_count": 36,
     "metadata": {},
     "output_type": "execute_result"
    }
   ],
   "source": [
    "st.auto_text_prep([\"ak suka mkan apel karena rasanya enak!!!\"],set_process=\"add_process\",process=[\"normalize_slang\"], return_types=\"list_of_sentences\" )"
   ]
  },
  {
   "cell_type": "code",
   "execution_count": null,
   "metadata": {},
   "outputs": [],
   "source": [
    "import numpy as np\n",
    "st.auto_text_prep(np.array([\"saya suka memakan daging\",\"mari makan\"]),return_types=\"list_of_sentences\")"
   ]
  },
  {
   "cell_type": "code",
   "execution_count": 15,
   "metadata": {},
   "outputs": [],
   "source": [
    "import pandas as pd\n",
    "kalimat =[\"tvri.com 14/08/1945 telah terjadi hari kemerdekaan\",\"ak suka mkn apel karena rasanya enak!!! 😁 😆 😅\"]\n",
    "doc=pd.DataFrame(kalimat,columns=[\"test\"])"
   ]
  },
  {
   "cell_type": "code",
   "execution_count": 37,
   "metadata": {},
   "outputs": [
    {
     "data": {
      "text/plain": [
       "[['tvri', 'com', '14', '08', '1945', 'jadi', 'hari', 'merdeka'],\n",
       " ['ak', 'suka', 'mkn', 'apel', 'rasa', 'enak']]"
      ]
     },
     "execution_count": 37,
     "metadata": {},
     "output_type": "execute_result"
    }
   ],
   "source": [
    "st.auto_text_prep(doc[\"test\"])"
   ]
  },
  {
   "cell_type": "code",
   "execution_count": 38,
   "metadata": {},
   "outputs": [
    {
     "data": {
      "text/plain": [
       "['tvri com 14 08 1945 jadi hari merdeka', 'ak suka mkn apel rasa enak']"
      ]
     },
     "execution_count": 38,
     "metadata": {},
     "output_type": "execute_result"
    }
   ],
   "source": [
    "st.auto_text_prep(doc[\"test\"],return_types=\"list_of_sentences\")"
   ]
  },
  {
   "cell_type": "code",
   "execution_count": 39,
   "metadata": {},
   "outputs": [
    {
     "data": {
      "text/plain": [
       "[['jadi', 'hari', 'merdeka'], ['ak', 'suka', 'mkn', 'apel', 'rasa', 'enak']]"
      ]
     },
     "execution_count": 39,
     "metadata": {},
     "output_type": "execute_result"
    }
   ],
   "source": [
    "st.auto_text_prep(doc[\"test\"],set_process=\"add_process\",process=[\"medianame_removal\",\"date_removal\"])"
   ]
  },
  {
   "cell_type": "code",
   "execution_count": 40,
   "metadata": {},
   "outputs": [
    {
     "data": {
      "text/plain": [
       "['jadi hari merdeka', 'ak suka mkn apel rasa enak']"
      ]
     },
     "execution_count": 40,
     "metadata": {},
     "output_type": "execute_result"
    }
   ],
   "source": [
    "st.auto_text_prep(doc[\"test\"],set_process=\"add_process\",process=[\"medianame_removal\",\"date_removal\"], return_types=\"list_of_sentences\")"
   ]
  },
  {
   "cell_type": "code",
   "execution_count": 41,
   "metadata": {},
   "outputs": [
    {
     "data": {
      "text/plain": [
       "[['telah', 'terjadi', 'hari', 'kemerdekaan'],\n",
       " ['ak',\n",
       "  'suka',\n",
       "  'mkn',\n",
       "  'apel',\n",
       "  'karena',\n",
       "  'rasanya',\n",
       "  'enak',\n",
       "  '!',\n",
       "  '!',\n",
       "  '!',\n",
       "  '😁',\n",
       "  '😆',\n",
       "  '😅']]"
      ]
     },
     "execution_count": 41,
     "metadata": {},
     "output_type": "execute_result"
    }
   ],
   "source": [
    "st.auto_text_prep(doc[\"test\"],set_process=\"customize\",process=[\"medianame_removal\",\"date_removal\"])"
   ]
  },
  {
   "cell_type": "code",
   "execution_count": 42,
   "metadata": {},
   "outputs": [
    {
     "data": {
      "text/plain": [
       "['telah terjadi hari kemerdekaan',\n",
       " 'ak suka mkn apel karena rasanya enak!!! 😁 😆 😅']"
      ]
     },
     "execution_count": 42,
     "metadata": {},
     "output_type": "execute_result"
    }
   ],
   "source": [
    "st.auto_text_prep(doc[\"test\"],set_process=\"customize\",process=[\"medianame_removal\",\"date_removal\"],return_types=\"list_of_sentences\")"
   ]
  },
  {
   "cell_type": "code",
   "execution_count": null,
   "metadata": {},
   "outputs": [],
   "source": []
  }
 ],
 "metadata": {
  "kernelspec": {
   "display_name": "Python 3.8.10 ('straycat_venv': venv)",
   "language": "python",
   "name": "python3"
  },
  "language_info": {
   "codemirror_mode": {
    "name": "ipython",
    "version": 3
   },
   "file_extension": ".py",
   "mimetype": "text/x-python",
   "name": "python",
   "nbconvert_exporter": "python",
   "pygments_lexer": "ipython3",
   "version": "3.8.10"
  },
  "orig_nbformat": 4,
  "vscode": {
   "interpreter": {
    "hash": "47d9ba0c34627196456b564ea8ff741359f630e99dbcec2184de18bbdfb1beb1"
   }
  }
 },
 "nbformat": 4,
 "nbformat_minor": 2
}
