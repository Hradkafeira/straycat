{
 "cells": [
  {
   "cell_type": "code",
   "execution_count": 1,
   "metadata": {},
   "outputs": [],
   "source": [
    "from straycat import text_preprocessing as tp\n",
    "st=tp.TextPreprocessing()"
   ]
  },
  {
   "cell_type": "code",
   "execution_count": 2,
   "metadata": {},
   "outputs": [
    {
     "data": {
      "text/plain": [
       "'Apel terlihat lezat'"
      ]
     },
     "execution_count": 2,
     "metadata": {},
     "output_type": "execute_result"
    }
   ],
   "source": [
    "st.stop_words(\"Apel yang terlihat lezat\")"
   ]
  },
  {
   "cell_type": "code",
   "execution_count": 2,
   "metadata": {},
   "outputs": [
    {
     "data": {
      "text/plain": [
       "['suka makan daging']"
      ]
     },
     "execution_count": 2,
     "metadata": {},
     "output_type": "execute_result"
    }
   ],
   "source": [
    "st.auto_text_prep([\"saya suka memakan daging\"])"
   ]
  },
  {
   "cell_type": "code",
   "execution_count": 3,
   "metadata": {},
   "outputs": [],
   "source": [
    "import pandas as pd\n",
    "kalimat =[\"tvri.com 14/08/1945 telah terjadi hari kemerdekaan\",\"ak suka mkn apel karena rasanya enak!!! 😁 😆 😅\"]\n",
    "doc=pd.DataFrame(kalimat,columns=[\"test\"])"
   ]
  },
  {
   "cell_type": "code",
   "execution_count": 4,
   "metadata": {},
   "outputs": [
    {
     "data": {
      "text/plain": [
       "['tvri com 14 08 1945 jadi hari merdeka', 'ak suka mkn apel rasa enak']"
      ]
     },
     "execution_count": 4,
     "metadata": {},
     "output_type": "execute_result"
    }
   ],
   "source": [
    "st.auto_text_prep(doc[\"test\"])"
   ]
  },
  {
   "cell_type": "code",
   "execution_count": 4,
   "metadata": {},
   "outputs": [
    {
     "data": {
      "text/plain": [
       "['jadi hari merdeka', 'ak suka mkn apel rasa enak']"
      ]
     },
     "execution_count": 4,
     "metadata": {},
     "output_type": "execute_result"
    }
   ],
   "source": [
    "st.auto_text_prep(doc[\"test\"],set_process=\"add_process\",process=[\"medianame_removal\",\"date_removal\"])"
   ]
  },
  {
   "cell_type": "code",
   "execution_count": 10,
   "metadata": {},
   "outputs": [
    {
     "data": {
      "text/plain": [
       "['telah terjadi hari kemerdekaan',\n",
       " 'ak suka mkn apel karena rasanya enak!!! 😁 😆 😅']"
      ]
     },
     "execution_count": 10,
     "metadata": {},
     "output_type": "execute_result"
    }
   ],
   "source": [
    "st.auto_text_prep(doc[\"test\"],set_process=\"customize\",process=[\"medianame_removal\",\"date_removal\"])"
   ]
  }
 ],
 "metadata": {
  "interpreter": {
   "hash": "47d9ba0c34627196456b564ea8ff741359f630e99dbcec2184de18bbdfb1beb1"
  },
  "kernelspec": {
   "display_name": "Python 3.8.10 ('straycat_venv': venv)",
   "language": "python",
   "name": "python3"
  },
  "language_info": {
   "codemirror_mode": {
    "name": "ipython",
    "version": 3
   },
   "file_extension": ".py",
   "mimetype": "text/x-python",
   "name": "python",
   "nbconvert_exporter": "python",
   "pygments_lexer": "ipython3",
   "version": "3.8.10"
  },
  "orig_nbformat": 4
 },
 "nbformat": 4,
 "nbformat_minor": 2
}
